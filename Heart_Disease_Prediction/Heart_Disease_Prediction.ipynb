{
  "cells": [
    {
      "cell_type": "markdown",
      "metadata": {},
      "source": [
        "# I. Load Dataset"
      ]
    },
    {
      "cell_type": "code",
      "execution_count": 174,
      "metadata": {
        "id": "WUElY2RnXjaG"
      },
      "outputs": [],
      "source": [
        "import numpy as np\n",
        "import pandas as pd\n",
        "import warnings\n",
        "warnings.filterwarnings('ignore')"
      ]
    },
    {
      "cell_type": "code",
      "execution_count": 175,
      "metadata": {},
      "outputs": [
        {
          "data": {
            "text/html": [
              "<div>\n",
              "<style scoped>\n",
              "    .dataframe tbody tr th:only-of-type {\n",
              "        vertical-align: middle;\n",
              "    }\n",
              "\n",
              "    .dataframe tbody tr th {\n",
              "        vertical-align: top;\n",
              "    }\n",
              "\n",
              "    .dataframe thead th {\n",
              "        text-align: right;\n",
              "    }\n",
              "</style>\n",
              "<table border=\"1\" class=\"dataframe\">\n",
              "  <thead>\n",
              "    <tr style=\"text-align: right;\">\n",
              "      <th></th>\n",
              "      <th>age</th>\n",
              "      <th>sex</th>\n",
              "      <th>cp</th>\n",
              "      <th>trestbps</th>\n",
              "      <th>chol</th>\n",
              "      <th>fbs</th>\n",
              "      <th>restecg</th>\n",
              "      <th>thalach</th>\n",
              "      <th>exang</th>\n",
              "      <th>oldpeak</th>\n",
              "      <th>slope</th>\n",
              "      <th>ca</th>\n",
              "      <th>thal</th>\n",
              "      <th>target</th>\n",
              "    </tr>\n",
              "  </thead>\n",
              "  <tbody>\n",
              "    <tr>\n",
              "      <th>0</th>\n",
              "      <td>63</td>\n",
              "      <td>1</td>\n",
              "      <td>1</td>\n",
              "      <td>145</td>\n",
              "      <td>233</td>\n",
              "      <td>1</td>\n",
              "      <td>2</td>\n",
              "      <td>150</td>\n",
              "      <td>0</td>\n",
              "      <td>2.3</td>\n",
              "      <td>3</td>\n",
              "      <td>0.0</td>\n",
              "      <td>6.0</td>\n",
              "      <td>0</td>\n",
              "    </tr>\n",
              "    <tr>\n",
              "      <th>1</th>\n",
              "      <td>67</td>\n",
              "      <td>1</td>\n",
              "      <td>4</td>\n",
              "      <td>160</td>\n",
              "      <td>286</td>\n",
              "      <td>0</td>\n",
              "      <td>2</td>\n",
              "      <td>108</td>\n",
              "      <td>1</td>\n",
              "      <td>1.5</td>\n",
              "      <td>2</td>\n",
              "      <td>3.0</td>\n",
              "      <td>3.0</td>\n",
              "      <td>2</td>\n",
              "    </tr>\n",
              "    <tr>\n",
              "      <th>2</th>\n",
              "      <td>67</td>\n",
              "      <td>1</td>\n",
              "      <td>4</td>\n",
              "      <td>120</td>\n",
              "      <td>229</td>\n",
              "      <td>0</td>\n",
              "      <td>2</td>\n",
              "      <td>129</td>\n",
              "      <td>1</td>\n",
              "      <td>2.6</td>\n",
              "      <td>2</td>\n",
              "      <td>2.0</td>\n",
              "      <td>7.0</td>\n",
              "      <td>1</td>\n",
              "    </tr>\n",
              "    <tr>\n",
              "      <th>3</th>\n",
              "      <td>37</td>\n",
              "      <td>1</td>\n",
              "      <td>3</td>\n",
              "      <td>130</td>\n",
              "      <td>250</td>\n",
              "      <td>0</td>\n",
              "      <td>0</td>\n",
              "      <td>187</td>\n",
              "      <td>0</td>\n",
              "      <td>3.5</td>\n",
              "      <td>3</td>\n",
              "      <td>0.0</td>\n",
              "      <td>3.0</td>\n",
              "      <td>0</td>\n",
              "    </tr>\n",
              "    <tr>\n",
              "      <th>4</th>\n",
              "      <td>41</td>\n",
              "      <td>0</td>\n",
              "      <td>2</td>\n",
              "      <td>130</td>\n",
              "      <td>204</td>\n",
              "      <td>0</td>\n",
              "      <td>2</td>\n",
              "      <td>172</td>\n",
              "      <td>0</td>\n",
              "      <td>1.4</td>\n",
              "      <td>1</td>\n",
              "      <td>0.0</td>\n",
              "      <td>3.0</td>\n",
              "      <td>0</td>\n",
              "    </tr>\n",
              "    <tr>\n",
              "      <th>...</th>\n",
              "      <td>...</td>\n",
              "      <td>...</td>\n",
              "      <td>...</td>\n",
              "      <td>...</td>\n",
              "      <td>...</td>\n",
              "      <td>...</td>\n",
              "      <td>...</td>\n",
              "      <td>...</td>\n",
              "      <td>...</td>\n",
              "      <td>...</td>\n",
              "      <td>...</td>\n",
              "      <td>...</td>\n",
              "      <td>...</td>\n",
              "      <td>...</td>\n",
              "    </tr>\n",
              "    <tr>\n",
              "      <th>298</th>\n",
              "      <td>45</td>\n",
              "      <td>1</td>\n",
              "      <td>1</td>\n",
              "      <td>110</td>\n",
              "      <td>264</td>\n",
              "      <td>0</td>\n",
              "      <td>0</td>\n",
              "      <td>132</td>\n",
              "      <td>0</td>\n",
              "      <td>1.2</td>\n",
              "      <td>2</td>\n",
              "      <td>0.0</td>\n",
              "      <td>7.0</td>\n",
              "      <td>1</td>\n",
              "    </tr>\n",
              "    <tr>\n",
              "      <th>299</th>\n",
              "      <td>68</td>\n",
              "      <td>1</td>\n",
              "      <td>4</td>\n",
              "      <td>144</td>\n",
              "      <td>193</td>\n",
              "      <td>1</td>\n",
              "      <td>0</td>\n",
              "      <td>141</td>\n",
              "      <td>0</td>\n",
              "      <td>3.4</td>\n",
              "      <td>2</td>\n",
              "      <td>2.0</td>\n",
              "      <td>7.0</td>\n",
              "      <td>2</td>\n",
              "    </tr>\n",
              "    <tr>\n",
              "      <th>300</th>\n",
              "      <td>57</td>\n",
              "      <td>1</td>\n",
              "      <td>4</td>\n",
              "      <td>130</td>\n",
              "      <td>131</td>\n",
              "      <td>0</td>\n",
              "      <td>0</td>\n",
              "      <td>115</td>\n",
              "      <td>1</td>\n",
              "      <td>1.2</td>\n",
              "      <td>2</td>\n",
              "      <td>1.0</td>\n",
              "      <td>7.0</td>\n",
              "      <td>3</td>\n",
              "    </tr>\n",
              "    <tr>\n",
              "      <th>301</th>\n",
              "      <td>57</td>\n",
              "      <td>0</td>\n",
              "      <td>2</td>\n",
              "      <td>130</td>\n",
              "      <td>236</td>\n",
              "      <td>0</td>\n",
              "      <td>2</td>\n",
              "      <td>174</td>\n",
              "      <td>0</td>\n",
              "      <td>0.0</td>\n",
              "      <td>2</td>\n",
              "      <td>1.0</td>\n",
              "      <td>3.0</td>\n",
              "      <td>1</td>\n",
              "    </tr>\n",
              "    <tr>\n",
              "      <th>302</th>\n",
              "      <td>38</td>\n",
              "      <td>1</td>\n",
              "      <td>3</td>\n",
              "      <td>138</td>\n",
              "      <td>175</td>\n",
              "      <td>0</td>\n",
              "      <td>0</td>\n",
              "      <td>173</td>\n",
              "      <td>0</td>\n",
              "      <td>0.0</td>\n",
              "      <td>1</td>\n",
              "      <td>NaN</td>\n",
              "      <td>3.0</td>\n",
              "      <td>0</td>\n",
              "    </tr>\n",
              "  </tbody>\n",
              "</table>\n",
              "<p>303 rows × 14 columns</p>\n",
              "</div>"
            ],
            "text/plain": [
              "     age  sex  cp  trestbps  chol  fbs  restecg  thalach  exang  oldpeak  \\\n",
              "0     63    1   1       145   233    1        2      150      0      2.3   \n",
              "1     67    1   4       160   286    0        2      108      1      1.5   \n",
              "2     67    1   4       120   229    0        2      129      1      2.6   \n",
              "3     37    1   3       130   250    0        0      187      0      3.5   \n",
              "4     41    0   2       130   204    0        2      172      0      1.4   \n",
              "..   ...  ...  ..       ...   ...  ...      ...      ...    ...      ...   \n",
              "298   45    1   1       110   264    0        0      132      0      1.2   \n",
              "299   68    1   4       144   193    1        0      141      0      3.4   \n",
              "300   57    1   4       130   131    0        0      115      1      1.2   \n",
              "301   57    0   2       130   236    0        2      174      0      0.0   \n",
              "302   38    1   3       138   175    0        0      173      0      0.0   \n",
              "\n",
              "     slope   ca  thal  target  \n",
              "0        3  0.0   6.0       0  \n",
              "1        2  3.0   3.0       2  \n",
              "2        2  2.0   7.0       1  \n",
              "3        3  0.0   3.0       0  \n",
              "4        1  0.0   3.0       0  \n",
              "..     ...  ...   ...     ...  \n",
              "298      2  0.0   7.0       1  \n",
              "299      2  2.0   7.0       2  \n",
              "300      2  1.0   7.0       3  \n",
              "301      2  1.0   3.0       1  \n",
              "302      1  NaN   3.0       0  \n",
              "\n",
              "[303 rows x 14 columns]"
            ]
          },
          "execution_count": 175,
          "metadata": {},
          "output_type": "execute_result"
        }
      ],
      "source": [
        "df_origin = pd.read_csv('cleveland.csv', header=None)\n",
        "df_origin.columns = ['age', 'sex', 'cp', 'trestbps', 'chol',\n",
        "                     'fbs', 'restecg', 'thalach', 'exang',\n",
        "                     'oldpeak', 'slope', 'ca', 'thal', 'target']\n",
        "df_origin = df_origin.drop_duplicates()\n",
        "\n",
        "df = df_origin.copy()\n",
        "df"
      ]
    },
    {
      "cell_type": "code",
      "execution_count": 176,
      "metadata": {},
      "outputs": [
        {
          "name": "stdout",
          "output_type": "stream",
          "text": [
            "<class 'pandas.core.frame.DataFrame'>\n",
            "RangeIndex: 303 entries, 0 to 302\n",
            "Data columns (total 14 columns):\n",
            " #   Column    Non-Null Count  Dtype  \n",
            "---  ------    --------------  -----  \n",
            " 0   age       303 non-null    int64  \n",
            " 1   sex       303 non-null    int64  \n",
            " 2   cp        303 non-null    int64  \n",
            " 3   trestbps  303 non-null    int64  \n",
            " 4   chol      303 non-null    int64  \n",
            " 5   fbs       303 non-null    int64  \n",
            " 6   restecg   303 non-null    int64  \n",
            " 7   thalach   303 non-null    int64  \n",
            " 8   exang     303 non-null    int64  \n",
            " 9   oldpeak   303 non-null    float64\n",
            " 10  slope     303 non-null    int64  \n",
            " 11  ca        299 non-null    float64\n",
            " 12  thal      301 non-null    float64\n",
            " 13  target    303 non-null    int64  \n",
            "dtypes: float64(3), int64(11)\n",
            "memory usage: 33.3 KB\n"
          ]
        }
      ],
      "source": [
        "df.info()"
      ]
    },
    {
      "cell_type": "code",
      "execution_count": 177,
      "metadata": {},
      "outputs": [
        {
          "data": {
            "text/plain": [
              "array([0, 2, 1, 3, 4], dtype=int64)"
            ]
          },
          "execution_count": 177,
          "metadata": {},
          "output_type": "execute_result"
        }
      ],
      "source": [
        "df.target.unique()"
      ]
    },
    {
      "cell_type": "code",
      "execution_count": 178,
      "metadata": {},
      "outputs": [
        {
          "data": {
            "text/plain": [
              "age         0\n",
              "sex         0\n",
              "cp          0\n",
              "trestbps    0\n",
              "chol        0\n",
              "fbs         0\n",
              "restecg     0\n",
              "thalach     0\n",
              "exang       0\n",
              "oldpeak     0\n",
              "slope       0\n",
              "ca          4\n",
              "thal        2\n",
              "target      0\n",
              "dtype: int64"
            ]
          },
          "execution_count": 178,
          "metadata": {},
          "output_type": "execute_result"
        }
      ],
      "source": [
        "df.isna().sum(axis=0)"
      ]
    },
    {
      "cell_type": "code",
      "execution_count": 179,
      "metadata": {},
      "outputs": [
        {
          "data": {
            "text/html": [
              "<div>\n",
              "<style scoped>\n",
              "    .dataframe tbody tr th:only-of-type {\n",
              "        vertical-align: middle;\n",
              "    }\n",
              "\n",
              "    .dataframe tbody tr th {\n",
              "        vertical-align: top;\n",
              "    }\n",
              "\n",
              "    .dataframe thead th {\n",
              "        text-align: right;\n",
              "    }\n",
              "</style>\n",
              "<table border=\"1\" class=\"dataframe\">\n",
              "  <thead>\n",
              "    <tr style=\"text-align: right;\">\n",
              "      <th></th>\n",
              "      <th>ca</th>\n",
              "      <th>thal</th>\n",
              "    </tr>\n",
              "  </thead>\n",
              "  <tbody>\n",
              "    <tr>\n",
              "      <th>87</th>\n",
              "      <td>0.0</td>\n",
              "      <td>NaN</td>\n",
              "    </tr>\n",
              "    <tr>\n",
              "      <th>166</th>\n",
              "      <td>NaN</td>\n",
              "      <td>3.0</td>\n",
              "    </tr>\n",
              "    <tr>\n",
              "      <th>192</th>\n",
              "      <td>NaN</td>\n",
              "      <td>7.0</td>\n",
              "    </tr>\n",
              "    <tr>\n",
              "      <th>266</th>\n",
              "      <td>0.0</td>\n",
              "      <td>NaN</td>\n",
              "    </tr>\n",
              "    <tr>\n",
              "      <th>287</th>\n",
              "      <td>NaN</td>\n",
              "      <td>7.0</td>\n",
              "    </tr>\n",
              "    <tr>\n",
              "      <th>302</th>\n",
              "      <td>NaN</td>\n",
              "      <td>3.0</td>\n",
              "    </tr>\n",
              "  </tbody>\n",
              "</table>\n",
              "</div>"
            ],
            "text/plain": [
              "      ca  thal\n",
              "87   0.0   NaN\n",
              "166  NaN   3.0\n",
              "192  NaN   7.0\n",
              "266  0.0   NaN\n",
              "287  NaN   7.0\n",
              "302  NaN   3.0"
            ]
          },
          "execution_count": 179,
          "metadata": {},
          "output_type": "execute_result"
        }
      ],
      "source": [
        "nan_indies = df[df.isna().any(axis=1)].index\n",
        "df.iloc[nan_indies][['ca', 'thal']]"
      ]
    },
    {
      "cell_type": "code",
      "execution_count": 180,
      "metadata": {},
      "outputs": [
        {
          "data": {
            "text/html": [
              "<div>\n",
              "<style scoped>\n",
              "    .dataframe tbody tr th:only-of-type {\n",
              "        vertical-align: middle;\n",
              "    }\n",
              "\n",
              "    .dataframe tbody tr th {\n",
              "        vertical-align: top;\n",
              "    }\n",
              "\n",
              "    .dataframe thead th {\n",
              "        text-align: right;\n",
              "    }\n",
              "</style>\n",
              "<table border=\"1\" class=\"dataframe\">\n",
              "  <thead>\n",
              "    <tr style=\"text-align: right;\">\n",
              "      <th></th>\n",
              "      <th>age</th>\n",
              "      <th>sex</th>\n",
              "      <th>cp</th>\n",
              "      <th>trestbps</th>\n",
              "      <th>chol</th>\n",
              "      <th>fbs</th>\n",
              "      <th>restecg</th>\n",
              "      <th>thalach</th>\n",
              "      <th>exang</th>\n",
              "      <th>oldpeak</th>\n",
              "      <th>slope</th>\n",
              "      <th>ca</th>\n",
              "      <th>thal</th>\n",
              "      <th>target</th>\n",
              "    </tr>\n",
              "  </thead>\n",
              "  <tbody>\n",
              "    <tr>\n",
              "      <th>count</th>\n",
              "      <td>303.000000</td>\n",
              "      <td>303.000000</td>\n",
              "      <td>303.000000</td>\n",
              "      <td>303.000000</td>\n",
              "      <td>303.000000</td>\n",
              "      <td>303.000000</td>\n",
              "      <td>303.000000</td>\n",
              "      <td>303.000000</td>\n",
              "      <td>303.000000</td>\n",
              "      <td>303.000000</td>\n",
              "      <td>303.000000</td>\n",
              "      <td>299.000000</td>\n",
              "      <td>301.000000</td>\n",
              "      <td>303.000000</td>\n",
              "    </tr>\n",
              "    <tr>\n",
              "      <th>mean</th>\n",
              "      <td>54.438944</td>\n",
              "      <td>0.679868</td>\n",
              "      <td>3.158416</td>\n",
              "      <td>131.689769</td>\n",
              "      <td>246.693069</td>\n",
              "      <td>0.148515</td>\n",
              "      <td>0.990099</td>\n",
              "      <td>149.607261</td>\n",
              "      <td>0.326733</td>\n",
              "      <td>1.039604</td>\n",
              "      <td>1.600660</td>\n",
              "      <td>0.672241</td>\n",
              "      <td>4.734219</td>\n",
              "      <td>0.937294</td>\n",
              "    </tr>\n",
              "    <tr>\n",
              "      <th>std</th>\n",
              "      <td>9.038662</td>\n",
              "      <td>0.467299</td>\n",
              "      <td>0.960126</td>\n",
              "      <td>17.599748</td>\n",
              "      <td>51.776918</td>\n",
              "      <td>0.356198</td>\n",
              "      <td>0.994971</td>\n",
              "      <td>22.875003</td>\n",
              "      <td>0.469794</td>\n",
              "      <td>1.161075</td>\n",
              "      <td>0.616226</td>\n",
              "      <td>0.937438</td>\n",
              "      <td>1.939706</td>\n",
              "      <td>1.228536</td>\n",
              "    </tr>\n",
              "    <tr>\n",
              "      <th>min</th>\n",
              "      <td>29.000000</td>\n",
              "      <td>0.000000</td>\n",
              "      <td>1.000000</td>\n",
              "      <td>94.000000</td>\n",
              "      <td>126.000000</td>\n",
              "      <td>0.000000</td>\n",
              "      <td>0.000000</td>\n",
              "      <td>71.000000</td>\n",
              "      <td>0.000000</td>\n",
              "      <td>0.000000</td>\n",
              "      <td>1.000000</td>\n",
              "      <td>0.000000</td>\n",
              "      <td>3.000000</td>\n",
              "      <td>0.000000</td>\n",
              "    </tr>\n",
              "    <tr>\n",
              "      <th>25%</th>\n",
              "      <td>48.000000</td>\n",
              "      <td>0.000000</td>\n",
              "      <td>3.000000</td>\n",
              "      <td>120.000000</td>\n",
              "      <td>211.000000</td>\n",
              "      <td>0.000000</td>\n",
              "      <td>0.000000</td>\n",
              "      <td>133.500000</td>\n",
              "      <td>0.000000</td>\n",
              "      <td>0.000000</td>\n",
              "      <td>1.000000</td>\n",
              "      <td>0.000000</td>\n",
              "      <td>3.000000</td>\n",
              "      <td>0.000000</td>\n",
              "    </tr>\n",
              "    <tr>\n",
              "      <th>50%</th>\n",
              "      <td>56.000000</td>\n",
              "      <td>1.000000</td>\n",
              "      <td>3.000000</td>\n",
              "      <td>130.000000</td>\n",
              "      <td>241.000000</td>\n",
              "      <td>0.000000</td>\n",
              "      <td>1.000000</td>\n",
              "      <td>153.000000</td>\n",
              "      <td>0.000000</td>\n",
              "      <td>0.800000</td>\n",
              "      <td>2.000000</td>\n",
              "      <td>0.000000</td>\n",
              "      <td>3.000000</td>\n",
              "      <td>0.000000</td>\n",
              "    </tr>\n",
              "    <tr>\n",
              "      <th>75%</th>\n",
              "      <td>61.000000</td>\n",
              "      <td>1.000000</td>\n",
              "      <td>4.000000</td>\n",
              "      <td>140.000000</td>\n",
              "      <td>275.000000</td>\n",
              "      <td>0.000000</td>\n",
              "      <td>2.000000</td>\n",
              "      <td>166.000000</td>\n",
              "      <td>1.000000</td>\n",
              "      <td>1.600000</td>\n",
              "      <td>2.000000</td>\n",
              "      <td>1.000000</td>\n",
              "      <td>7.000000</td>\n",
              "      <td>2.000000</td>\n",
              "    </tr>\n",
              "    <tr>\n",
              "      <th>max</th>\n",
              "      <td>77.000000</td>\n",
              "      <td>1.000000</td>\n",
              "      <td>4.000000</td>\n",
              "      <td>200.000000</td>\n",
              "      <td>564.000000</td>\n",
              "      <td>1.000000</td>\n",
              "      <td>2.000000</td>\n",
              "      <td>202.000000</td>\n",
              "      <td>1.000000</td>\n",
              "      <td>6.200000</td>\n",
              "      <td>3.000000</td>\n",
              "      <td>3.000000</td>\n",
              "      <td>7.000000</td>\n",
              "      <td>4.000000</td>\n",
              "    </tr>\n",
              "  </tbody>\n",
              "</table>\n",
              "</div>"
            ],
            "text/plain": [
              "              age         sex          cp    trestbps        chol         fbs  \\\n",
              "count  303.000000  303.000000  303.000000  303.000000  303.000000  303.000000   \n",
              "mean    54.438944    0.679868    3.158416  131.689769  246.693069    0.148515   \n",
              "std      9.038662    0.467299    0.960126   17.599748   51.776918    0.356198   \n",
              "min     29.000000    0.000000    1.000000   94.000000  126.000000    0.000000   \n",
              "25%     48.000000    0.000000    3.000000  120.000000  211.000000    0.000000   \n",
              "50%     56.000000    1.000000    3.000000  130.000000  241.000000    0.000000   \n",
              "75%     61.000000    1.000000    4.000000  140.000000  275.000000    0.000000   \n",
              "max     77.000000    1.000000    4.000000  200.000000  564.000000    1.000000   \n",
              "\n",
              "          restecg     thalach       exang     oldpeak       slope          ca  \\\n",
              "count  303.000000  303.000000  303.000000  303.000000  303.000000  299.000000   \n",
              "mean     0.990099  149.607261    0.326733    1.039604    1.600660    0.672241   \n",
              "std      0.994971   22.875003    0.469794    1.161075    0.616226    0.937438   \n",
              "min      0.000000   71.000000    0.000000    0.000000    1.000000    0.000000   \n",
              "25%      0.000000  133.500000    0.000000    0.000000    1.000000    0.000000   \n",
              "50%      1.000000  153.000000    0.000000    0.800000    2.000000    0.000000   \n",
              "75%      2.000000  166.000000    1.000000    1.600000    2.000000    1.000000   \n",
              "max      2.000000  202.000000    1.000000    6.200000    3.000000    3.000000   \n",
              "\n",
              "             thal      target  \n",
              "count  301.000000  303.000000  \n",
              "mean     4.734219    0.937294  \n",
              "std      1.939706    1.228536  \n",
              "min      3.000000    0.000000  \n",
              "25%      3.000000    0.000000  \n",
              "50%      3.000000    0.000000  \n",
              "75%      7.000000    2.000000  \n",
              "max      7.000000    4.000000  "
            ]
          },
          "execution_count": 180,
          "metadata": {},
          "output_type": "execute_result"
        }
      ],
      "source": [
        "df.describe()"
      ]
    },
    {
      "cell_type": "markdown",
      "metadata": {},
      "source": [
        "# II. Preprocessing"
      ]
    },
    {
      "cell_type": "code",
      "execution_count": 181,
      "metadata": {
        "colab": {
          "base_uri": "https://localhost:8080/",
          "height": 552
        },
        "id": "g5ITObW5PUvd",
        "outputId": "dae5f525-5815-46ed-914e-5cb3f48d5d55"
      },
      "outputs": [
        {
          "data": {
            "text/html": [
              "<div>\n",
              "<style scoped>\n",
              "    .dataframe tbody tr th:only-of-type {\n",
              "        vertical-align: middle;\n",
              "    }\n",
              "\n",
              "    .dataframe tbody tr th {\n",
              "        vertical-align: top;\n",
              "    }\n",
              "\n",
              "    .dataframe thead th {\n",
              "        text-align: right;\n",
              "    }\n",
              "</style>\n",
              "<table border=\"1\" class=\"dataframe\">\n",
              "  <thead>\n",
              "    <tr style=\"text-align: right;\">\n",
              "      <th></th>\n",
              "      <th>ca</th>\n",
              "      <th>thal</th>\n",
              "    </tr>\n",
              "  </thead>\n",
              "  <tbody>\n",
              "    <tr>\n",
              "      <th>87</th>\n",
              "      <td>0.000000</td>\n",
              "      <td>4.734219</td>\n",
              "    </tr>\n",
              "    <tr>\n",
              "      <th>166</th>\n",
              "      <td>0.672241</td>\n",
              "      <td>3.000000</td>\n",
              "    </tr>\n",
              "    <tr>\n",
              "      <th>192</th>\n",
              "      <td>0.672241</td>\n",
              "      <td>7.000000</td>\n",
              "    </tr>\n",
              "    <tr>\n",
              "      <th>266</th>\n",
              "      <td>0.000000</td>\n",
              "      <td>4.734219</td>\n",
              "    </tr>\n",
              "    <tr>\n",
              "      <th>287</th>\n",
              "      <td>0.672241</td>\n",
              "      <td>7.000000</td>\n",
              "    </tr>\n",
              "    <tr>\n",
              "      <th>302</th>\n",
              "      <td>0.672241</td>\n",
              "      <td>3.000000</td>\n",
              "    </tr>\n",
              "  </tbody>\n",
              "</table>\n",
              "</div>"
            ],
            "text/plain": [
              "           ca      thal\n",
              "87   0.000000  4.734219\n",
              "166  0.672241  3.000000\n",
              "192  0.672241  7.000000\n",
              "266  0.000000  4.734219\n",
              "287  0.672241  7.000000\n",
              "302  0.672241  3.000000"
            ]
          },
          "execution_count": 181,
          "metadata": {},
          "output_type": "execute_result"
        }
      ],
      "source": [
        "df['thal'] = df.thal.fillna(df.thal.mean())\n",
        "df['ca'] = df.ca.fillna(df.ca.mean())\n",
        "df.iloc[nan_indies][['ca', 'thal']]"
      ]
    },
    {
      "cell_type": "code",
      "execution_count": 182,
      "metadata": {},
      "outputs": [],
      "source": [
        "df['target'] = df.target.map({0: 0, 1: 1, 2: 1, 3: 1, 4: 1})"
      ]
    },
    {
      "cell_type": "markdown",
      "metadata": {},
      "source": [
        "# III. EDA"
      ]
    },
    {
      "cell_type": "code",
      "execution_count": 183,
      "metadata": {},
      "outputs": [],
      "source": [
        "import matplotlib.pyplot as plt\n",
        "import seaborn as sns"
      ]
    },
    {
      "cell_type": "code",
      "execution_count": 184,
      "metadata": {},
      "outputs": [
        {
          "data": {
            "image/png": "[encoded data removed]",
            "text/plain": [
              "<Figure size 550.875x500 with 1 Axes>"
            ]
          },
          "metadata": {},
          "output_type": "display_data"
        }
      ],
      "source": [
        "sns.set_context(\"paper\", font_scale=1, rc={\"font.size\": 3, \"axes.titlesize\": 15, \"axes.labelsize\": 10})\n",
        "ax_ = sns.catplot(kind='count', data=df, x='age', hue='target',\n",
        "                  order=df['age'].sort_values().unique(), palette='Set1')\n",
        "ax_.ax.set_xticks(np.arange(0, df.age.unique().size, 2))\n",
        "plt.title('Variation of Age for each target class')\n",
        "plt.show()"
      ]
    },
    {
      "cell_type": "code",
      "execution_count": 185,
      "metadata": {},
      "outputs": [
        {
          "data": {
            "image/png": "[encoded data removed]",
            "text/plain": [
              "<Figure size 550.875x500 with 1 Axes>"
            ]
          },
          "metadata": {},
          "output_type": "display_data"
        }
      ],
      "source": [
        "sns.catplot(kind='box', data=df, y='age', x='sex', hue='target')\n",
        "plt.title('Distribution of age vs sex with the target class')\n",
        "plt.show()"
      ]
    },
    {
      "cell_type": "markdown",
      "metadata": {},
      "source": [
        "# IV. Encoding"
      ]
    },
    {
      "cell_type": "code",
      "execution_count": 186,
      "metadata": {},
      "outputs": [],
      "source": [
        "from sklearn.model_selection import train_test_split\n",
        "from sklearn.preprocessing import StandardScaler"
      ]
    },
    {
      "cell_type": "code",
      "execution_count": 187,
      "metadata": {},
      "outputs": [],
      "source": [
        "X = df.iloc[:, :-1].values\n",
        "y = df.iloc[:, -1].values\n",
        "\n",
        "random_state = 42\n",
        "X_train, X_test, y_train, y_test = train_test_split(X, y, test_size=0.2, random_state=random_state)\n",
        "\n",
        "ss = StandardScaler()\n",
        "X_train = ss.fit_transform(X_train)\n",
        "X_test = ss.transform(X_test)"
      ]
    },
    {
      "cell_type": "markdown",
      "metadata": {},
      "source": [
        "# V. Train and Test Models"
      ]
    },
    {
      "cell_type": "code",
      "execution_count": 188,
      "metadata": {},
      "outputs": [],
      "source": [
        "from sklearn.metrics import classification_report\n",
        "from sklearn.metrics import f1_score, accuracy_score\n",
        "from sklearn.metrics import mean_squared_error\n",
        "from sklearn.neighbors import KNeighborsClassifier\n",
        "from sklearn.svm import SVC\n",
        "from sklearn.naive_bayes import GaussianNB\n",
        "from sklearn.tree import DecisionTreeClassifier\n",
        "from sklearn.ensemble import RandomForestClassifier\n",
        "from sklearn.ensemble import AdaBoostClassifier\n",
        "from sklearn.ensemble import GradientBoostingClassifier\n",
        "from sklearn.ensemble import StackingClassifier\n",
        "from xgboost import XGBClassifier\n",
        "from sklearn.experimental import enable_iterative_imputer\n",
        "from sklearn.impute import IterativeImputer, KNNImputer\n",
        "from sklearn.svm import SVR\n",
        "from sklearn.tree import DecisionTreeRegressor\n",
        "from sklearn.ensemble import RandomForestRegressor\n",
        "from sklearn.ensemble import AdaBoostRegressor\n",
        "from sklearn.ensemble import GradientBoostingRegressor\n",
        "from xgboost import XGBRegressor"
      ]
    },
    {
      "cell_type": "code",
      "execution_count": 189,
      "metadata": {},
      "outputs": [],
      "source": [
        "accuracy_models = {}"
      ]
    },
    {
      "cell_type": "markdown",
      "metadata": {},
      "source": [
        "## <span style=\"font-size: 20px;\">*1. K-Nearest Neighbor*</span>"
      ]
    },
    {
      "cell_type": "code",
      "execution_count": 190,
      "metadata": {},
      "outputs": [
        {
          "data": {
            "text/html": [
              "<div>\n",
              "<style scoped>\n",
              "    .dataframe tbody tr th:only-of-type {\n",
              "        vertical-align: middle;\n",
              "    }\n",
              "\n",
              "    .dataframe tbody tr th {\n",
              "        vertical-align: top;\n",
              "    }\n",
              "\n",
              "    .dataframe thead th {\n",
              "        text-align: right;\n",
              "    }\n",
              "</style>\n",
              "<table border=\"1\" class=\"dataframe\">\n",
              "  <thead>\n",
              "    <tr style=\"text-align: right;\">\n",
              "      <th></th>\n",
              "      <th>ca</th>\n",
              "      <th>thal</th>\n",
              "    </tr>\n",
              "  </thead>\n",
              "  <tbody>\n",
              "    <tr>\n",
              "      <th>87</th>\n",
              "      <td>0.0</td>\n",
              "      <td>5.4</td>\n",
              "    </tr>\n",
              "    <tr>\n",
              "      <th>166</th>\n",
              "      <td>0.6</td>\n",
              "      <td>3.0</td>\n",
              "    </tr>\n",
              "    <tr>\n",
              "      <th>192</th>\n",
              "      <td>0.6</td>\n",
              "      <td>7.0</td>\n",
              "    </tr>\n",
              "    <tr>\n",
              "      <th>266</th>\n",
              "      <td>0.0</td>\n",
              "      <td>3.8</td>\n",
              "    </tr>\n",
              "    <tr>\n",
              "      <th>287</th>\n",
              "      <td>1.6</td>\n",
              "      <td>7.0</td>\n",
              "    </tr>\n",
              "    <tr>\n",
              "      <th>302</th>\n",
              "      <td>0.0</td>\n",
              "      <td>3.0</td>\n",
              "    </tr>\n",
              "  </tbody>\n",
              "</table>\n",
              "</div>"
            ],
            "text/plain": [
              "      ca  thal\n",
              "87   0.0   5.4\n",
              "166  0.6   3.0\n",
              "192  0.6   7.0\n",
              "266  0.0   3.8\n",
              "287  1.6   7.0\n",
              "302  0.0   3.0"
            ]
          },
          "execution_count": 190,
          "metadata": {},
          "output_type": "execute_result"
        }
      ],
      "source": [
        "df_knn = df_origin.copy()\n",
        "\n",
        "imputer = KNNImputer(n_neighbors=5)\n",
        "df_knn = pd.DataFrame(imputer.fit_transform(df_knn), columns=df_knn.columns)\n",
        "\n",
        "df_knn.iloc[nan_indies][['ca', 'thal']]"
      ]
    },
    {
      "cell_type": "code",
      "execution_count": 191,
      "metadata": {},
      "outputs": [
        {
          "data": {
            "image/png": "[encoded data removed]",
            "text/plain": [
              "<Figure size 1000x600 with 2 Axes>"
            ]
          },
          "metadata": {},
          "output_type": "display_data"
        }
      ],
      "source": [
        "neighbors = list(range(1, 51))\n",
        "knn_score = []\n",
        "error_rate = []\n",
        "\n",
        "for k in neighbors:\n",
        "    knn_clf = KNeighborsClassifier(n_neighbors=k, weights='distance', algorithm='auto', metric='euclidean')\n",
        "    knn_clf.fit(X_train, y_train)\n",
        "    y_pred_knn_clf = knn_clf.predict(X_test)\n",
        "    knn_score.append(f1_score(y_test, y_pred_knn_clf, average='weighted'))\n",
        "    error_rate.append(mean_squared_error(y_test, y_pred_knn_clf))\n",
        "        \n",
        "optimal_k_score = neighbors[knn_score.index(max(knn_score))]\n",
        "optimal_k_error = neighbors[error_rate.index(min(error_rate))]\n",
        "          \n",
        "plt.figure(figsize=(10, 6))\n",
        "plt.subplot(2, 1, 1)             \n",
        "plt.plot(neighbors, knn_score, color='black', linestyle='dashed', marker='o', markerfacecolor='blue', markersize=10)  \n",
        "plt.plot(optimal_k_score, max(knn_score), marker='o', markerfacecolor='green', markersize=10)\n",
        "plt.annotate(f\"Maximum f1_score is {max(knn_score):.2f} at K = {optimal_k_score}\",\n",
        "              xy=(neighbors[optimal_k_score], max(knn_score)),\n",
        "              xytext=(neighbors[optimal_k_score], max(knn_score)), fontsize=10)\n",
        "plt.ylabel('f1_score'),        \n",
        "plt.title('Optimal K for KNN')\n",
        "         \n",
        "plt.subplot(2, 1, 2)\n",
        "plt.plot(neighbors, error_rate, color='black', linestyle='dashed', marker='o', markerfacecolor='red', markersize=10)  \n",
        "plt.plot(optimal_k_error, min(error_rate), marker='o', markerfacecolor='green', markersize=10)\n",
        "plt.annotate(f\"Minimum error is {min(error_rate):.2f} at K = {optimal_k_error}\",\n",
        "              xy=(neighbors[optimal_k_error], min(error_rate)),\n",
        "              xytext=(neighbors[optimal_k_error], min(error_rate)), fontsize=10)\n",
        "plt.xlabel('Number of Neighbors K')\n",
        "plt.ylabel('Error rate')\n",
        "\n",
        "plt.show()"
      ]
    },
    {
      "cell_type": "code",
      "execution_count": 192,
      "metadata": {},
      "outputs": [
        {
          "name": "stdout",
          "output_type": "stream",
          "text": [
            "Metrics of KNN for train set:\n",
            "              precision    recall  f1-score   support\n",
            "\n",
            "           0       1.00      1.00      1.00       135\n",
            "           1       1.00      1.00      1.00       107\n",
            "\n",
            "    accuracy                           1.00       242\n",
            "   macro avg       1.00      1.00      1.00       242\n",
            "weighted avg       1.00      1.00      1.00       242\n",
            "\n",
            "-----------------------------------------------------------\n",
            "Metrics of KNN for test set:\n",
            "              precision    recall  f1-score   support\n",
            "\n",
            "           0       0.90      0.97      0.93        29\n",
            "           1       0.97      0.91      0.94        32\n",
            "\n",
            "    accuracy                           0.93        61\n",
            "   macro avg       0.93      0.94      0.93        61\n",
            "weighted avg       0.94      0.93      0.93        61\n",
            "\n"
          ]
        }
      ],
      "source": [
        "knn_clf = KNeighborsClassifier(n_neighbors=optimal_k_error, weights='distance', algorithm='auto', p=2, metric='minkowski')\n",
        "knn_clf.fit(X_train, y_train)\n",
        "\n",
        "y_pred_train_knn_clf = knn_clf.predict(X_train)\n",
        "y_pred_knn_clf = knn_clf.predict(X_test)\n",
        "\n",
        "print('Metrics of KNN for train set:')\n",
        "print(classification_report(y_train, y_pred_train_knn_clf))\n",
        "print(\"-----------------------------------------------------------\")\n",
        "print('Metrics of KNN for test set:')\n",
        "print(classification_report(y_test, y_pred_knn_clf))"
      ]
    },
    {
      "cell_type": "code",
      "execution_count": 193,
      "metadata": {},
      "outputs": [
        {
          "data": {
            "text/plain": [
              "{'knn': 0.93443}"
            ]
          },
          "execution_count": 193,
          "metadata": {},
          "output_type": "execute_result"
        }
      ],
      "source": [
        "accuracy_models['knn'] = round(accuracy_score(y_test, y_pred_knn_clf), 5)\n",
        "accuracy_models"
      ]
    },
    {
      "cell_type": "markdown",
      "metadata": {},
      "source": [
        "## <span style=\"font-size: 20px;\">*2. SVM*</span>"
      ]
    },
    {
      "cell_type": "code",
      "execution_count": 194,
      "metadata": {},
      "outputs": [
        {
          "data": {
            "text/html": [
              "<div>\n",
              "<style scoped>\n",
              "    .dataframe tbody tr th:only-of-type {\n",
              "        vertical-align: middle;\n",
              "    }\n",
              "\n",
              "    .dataframe tbody tr th {\n",
              "        vertical-align: top;\n",
              "    }\n",
              "\n",
              "    .dataframe thead th {\n",
              "        text-align: right;\n",
              "    }\n",
              "</style>\n",
              "<table border=\"1\" class=\"dataframe\">\n",
              "  <thead>\n",
              "    <tr style=\"text-align: right;\">\n",
              "      <th></th>\n",
              "      <th>ca</th>\n",
              "      <th>thal</th>\n",
              "    </tr>\n",
              "  </thead>\n",
              "  <tbody>\n",
              "    <tr>\n",
              "      <th>87</th>\n",
              "      <td>0.0</td>\n",
              "      <td>3.1</td>\n",
              "    </tr>\n",
              "    <tr>\n",
              "      <th>166</th>\n",
              "      <td>0.1</td>\n",
              "      <td>3.0</td>\n",
              "    </tr>\n",
              "    <tr>\n",
              "      <th>192</th>\n",
              "      <td>0.1</td>\n",
              "      <td>7.0</td>\n",
              "    </tr>\n",
              "    <tr>\n",
              "      <th>266</th>\n",
              "      <td>0.0</td>\n",
              "      <td>3.1</td>\n",
              "    </tr>\n",
              "    <tr>\n",
              "      <th>287</th>\n",
              "      <td>0.1</td>\n",
              "      <td>7.0</td>\n",
              "    </tr>\n",
              "    <tr>\n",
              "      <th>302</th>\n",
              "      <td>0.1</td>\n",
              "      <td>3.0</td>\n",
              "    </tr>\n",
              "  </tbody>\n",
              "</table>\n",
              "</div>"
            ],
            "text/plain": [
              "      ca  thal\n",
              "87   0.0   3.1\n",
              "166  0.1   3.0\n",
              "192  0.1   7.0\n",
              "266  0.0   3.1\n",
              "287  0.1   7.0\n",
              "302  0.1   3.0"
            ]
          },
          "execution_count": 194,
          "metadata": {},
          "output_type": "execute_result"
        }
      ],
      "source": [
        "df_svm = df_origin.copy()\n",
        "\n",
        "imputer = IterativeImputer(estimator=SVR(C=0.1, kernel='rbf', gamma=0), max_iter=10, random_state=random_state)\n",
        "df_svm = pd.DataFrame(imputer.fit_transform(df_svm), columns=df_svm.columns)\n",
        "\n",
        "df_svm.iloc[nan_indies][['ca', 'thal']]"
      ]
    },
    {
      "cell_type": "code",
      "execution_count": 195,
      "metadata": {
        "colab": {
          "base_uri": "https://localhost:8080/"
        },
        "id": "f8eYzfk_Y6em",
        "outputId": "785facc3-67b3-4a1c-d3bb-f0c4a4988a93"
      },
      "outputs": [
        {
          "name": "stdout",
          "output_type": "stream",
          "text": [
            "Metrics of SVC for train set:\n",
            "              precision    recall  f1-score   support\n",
            "\n",
            "           0       0.90      0.97      0.93       135\n",
            "           1       0.96      0.86      0.91       107\n",
            "\n",
            "    accuracy                           0.92       242\n",
            "   macro avg       0.93      0.92      0.92       242\n",
            "weighted avg       0.92      0.92      0.92       242\n",
            "\n",
            "-----------------------------------------------------------\n",
            "Metrics of SVC for test set:\n",
            "              precision    recall  f1-score   support\n",
            "\n",
            "           0       0.87      0.93      0.90        29\n",
            "           1       0.93      0.88      0.90        32\n",
            "\n",
            "    accuracy                           0.90        61\n",
            "   macro avg       0.90      0.90      0.90        61\n",
            "weighted avg       0.90      0.90      0.90        61\n",
            "\n"
          ]
        }
      ],
      "source": [
        "svc_clf = SVC(C=1, kernel='rbf', gamma=0.1, random_state=random_state)\n",
        "svc_clf.fit(X_train, y_train)\n",
        "\n",
        "y_pred_train_svc_clf = svc_clf.predict(X_train)\n",
        "y_pred_svc_clf = svc_clf.predict(X_test)\n",
        "\n",
        "print('Metrics of SVC for train set:')\n",
        "print(classification_report(y_train, y_pred_train_svc_clf))\n",
        "print(\"-----------------------------------------------------------\")\n",
        "print('Metrics of SVC for test set:')\n",
        "print(classification_report(y_test, y_pred_svc_clf))"
      ]
    },
    {
      "cell_type": "code",
      "execution_count": 196,
      "metadata": {},
      "outputs": [
        {
          "data": {
            "text/plain": [
              "{'knn': 0.93443, 'svc': 0.90164}"
            ]
          },
          "execution_count": 196,
          "metadata": {},
          "output_type": "execute_result"
        }
      ],
      "source": [
        "accuracy_models['svc'] = round(accuracy_score(y_test, y_pred_svc_clf), 5)\n",
        "accuracy_models"
      ]
    },
    {
      "cell_type": "markdown",
      "metadata": {},
      "source": [
        "## <span style=\"font-size: 20px;\">*3. GaussianNB*</span>"
      ]
    },
    {
      "cell_type": "code",
      "execution_count": 197,
      "metadata": {
        "colab": {
          "base_uri": "https://localhost:8080/"
        },
        "id": "BQL_DgnBZLq_",
        "outputId": "27000659-b8dd-4fb2-8271-695ab0ed186e"
      },
      "outputs": [
        {
          "name": "stdout",
          "output_type": "stream",
          "text": [
            "Metrics of GaussianNB for train set:\n",
            "              precision    recall  f1-score   support\n",
            "\n",
            "           0       0.84      0.90      0.87       135\n",
            "           1       0.86      0.78      0.82       107\n",
            "\n",
            "    accuracy                           0.85       242\n",
            "   macro avg       0.85      0.84      0.84       242\n",
            "weighted avg       0.85      0.85      0.85       242\n",
            "\n",
            "-----------------------------------------------------------\n",
            "Metrics of GaussianNB for test set:\n",
            "              precision    recall  f1-score   support\n",
            "\n",
            "           0       0.79      0.90      0.84        29\n",
            "           1       0.89      0.78      0.83        32\n",
            "\n",
            "    accuracy                           0.84        61\n",
            "   macro avg       0.84      0.84      0.84        61\n",
            "weighted avg       0.84      0.84      0.84        61\n",
            "\n"
          ]
        }
      ],
      "source": [
        "gnb_clf = GaussianNB()\n",
        "gnb_clf.fit(X_train, y_train)\n",
        "\n",
        "y_pred_train_gnb_clf = gnb_clf.predict(X_train)\n",
        "y_pred_gnb_clf = gnb_clf.predict(X_test)\n",
        "\n",
        "print('Metrics of GaussianNB for train set:')\n",
        "print(classification_report(y_train, y_pred_train_gnb_clf))\n",
        "print(\"-----------------------------------------------------------\")\n",
        "print('Metrics of GaussianNB for test set:')\n",
        "print(classification_report(y_test, y_pred_gnb_clf))"
      ]
    },
    {
      "cell_type": "code",
      "execution_count": 198,
      "metadata": {},
      "outputs": [
        {
          "data": {
            "text/plain": [
              "{'knn': 0.93443, 'svc': 0.90164, 'gnb': 0.83607}"
            ]
          },
          "execution_count": 198,
          "metadata": {},
          "output_type": "execute_result"
        }
      ],
      "source": [
        "accuracy_models['gnb'] = round(accuracy_score(y_test, y_pred_gnb_clf), 5)\n",
        "accuracy_models"
      ]
    },
    {
      "cell_type": "markdown",
      "metadata": {},
      "source": [
        "## <span style=\"font-size: 20px;\">*4. Decision Tree*</span>"
      ]
    },
    {
      "cell_type": "code",
      "execution_count": 199,
      "metadata": {},
      "outputs": [
        {
          "data": {
            "text/html": [
              "<div>\n",
              "<style scoped>\n",
              "    .dataframe tbody tr th:only-of-type {\n",
              "        vertical-align: middle;\n",
              "    }\n",
              "\n",
              "    .dataframe tbody tr th {\n",
              "        vertical-align: top;\n",
              "    }\n",
              "\n",
              "    .dataframe thead th {\n",
              "        text-align: right;\n",
              "    }\n",
              "</style>\n",
              "<table border=\"1\" class=\"dataframe\">\n",
              "  <thead>\n",
              "    <tr style=\"text-align: right;\">\n",
              "      <th></th>\n",
              "      <th>ca</th>\n",
              "      <th>thal</th>\n",
              "    </tr>\n",
              "  </thead>\n",
              "  <tbody>\n",
              "    <tr>\n",
              "      <th>87</th>\n",
              "      <td>0.0</td>\n",
              "      <td>3.0</td>\n",
              "    </tr>\n",
              "    <tr>\n",
              "      <th>166</th>\n",
              "      <td>0.0</td>\n",
              "      <td>3.0</td>\n",
              "    </tr>\n",
              "    <tr>\n",
              "      <th>192</th>\n",
              "      <td>1.0</td>\n",
              "      <td>7.0</td>\n",
              "    </tr>\n",
              "    <tr>\n",
              "      <th>266</th>\n",
              "      <td>0.0</td>\n",
              "      <td>6.0</td>\n",
              "    </tr>\n",
              "    <tr>\n",
              "      <th>287</th>\n",
              "      <td>0.0</td>\n",
              "      <td>7.0</td>\n",
              "    </tr>\n",
              "    <tr>\n",
              "      <th>302</th>\n",
              "      <td>0.0</td>\n",
              "      <td>3.0</td>\n",
              "    </tr>\n",
              "  </tbody>\n",
              "</table>\n",
              "</div>"
            ],
            "text/plain": [
              "      ca  thal\n",
              "87   0.0   3.0\n",
              "166  0.0   3.0\n",
              "192  1.0   7.0\n",
              "266  0.0   6.0\n",
              "287  0.0   7.0\n",
              "302  0.0   3.0"
            ]
          },
          "execution_count": 199,
          "metadata": {},
          "output_type": "execute_result"
        }
      ],
      "source": [
        "df_dt = df_origin.copy()\n",
        "\n",
        "imputer = IterativeImputer(\n",
        "    estimator=DecisionTreeRegressor(\n",
        "        ccp_alpha=0, random_state=random_state, min_samples_leaf=1, max_features=15),\n",
        "    max_iter=10, random_state=random_state)\n",
        "df_dt = pd.DataFrame(imputer.fit_transform(df_dt), columns=df_dt.columns)\n",
        "\n",
        "df_dt.iloc[nan_indies][['ca', 'thal']]"
      ]
    },
    {
      "cell_type": "code",
      "execution_count": 200,
      "metadata": {
        "colab": {
          "base_uri": "https://localhost:8080/"
        },
        "id": "AmTS5x_SZST1",
        "outputId": "fc76e7b6-8855-4e81-d387-635ef3516833"
      },
      "outputs": [
        {
          "name": "stdout",
          "output_type": "stream",
          "text": [
            "Metrics of DecisionTreeClassifier for train set:\n",
            "              precision    recall  f1-score   support\n",
            "\n",
            "           0       0.78      0.77      0.77       135\n",
            "           1       0.71      0.72      0.72       107\n",
            "\n",
            "    accuracy                           0.75       242\n",
            "   macro avg       0.74      0.74      0.74       242\n",
            "weighted avg       0.75      0.75      0.75       242\n",
            "\n",
            "-----------------------------------------------------------\n",
            "Metrics of DecisionTreeClassifier for test set:\n",
            "              precision    recall  f1-score   support\n",
            "\n",
            "           0       0.84      0.72      0.78        29\n",
            "           1       0.78      0.88      0.82        32\n",
            "\n",
            "    accuracy                           0.80        61\n",
            "   macro avg       0.81      0.80      0.80        61\n",
            "weighted avg       0.81      0.80      0.80        61\n",
            "\n"
          ]
        }
      ],
      "source": [
        "dt_clf = DecisionTreeClassifier(ccp_alpha=0.1, criterion='gini',\n",
        "                                max_depth=10, min_samples_split=2, random_state=random_state)\n",
        "dt_clf.fit(X_train, y_train)\n",
        "\n",
        "y_pred_train_dt_clf = dt_clf.predict(X_train)\n",
        "y_pred_dt_clf = dt_clf.predict(X_test)\n",
        "\n",
        "print('Metrics of DecisionTreeClassifier for train set:')\n",
        "print(classification_report(y_train, y_pred_train_dt_clf))\n",
        "print(\"-----------------------------------------------------------\")\n",
        "print('Metrics of DecisionTreeClassifier for test set:')\n",
        "print(classification_report(y_test, y_pred_dt_clf))"
      ]
    },
    {
      "cell_type": "code",
      "execution_count": 201,
      "metadata": {},
      "outputs": [
        {
          "data": {
            "text/plain": [
              "{'knn': 0.93443, 'svc': 0.90164, 'gnb': 0.83607, 'dt': 0.80328}"
            ]
          },
          "execution_count": 201,
          "metadata": {},
          "output_type": "execute_result"
        }
      ],
      "source": [
        "accuracy_models['dt'] = round(accuracy_score(y_test, y_pred_dt_clf), 5)\n",
        "accuracy_models"
      ]
    },
    {
      "cell_type": "markdown",
      "metadata": {},
      "source": [
        "## <span style=\"font-size: 20px;\">*5. Random Forest*</span>"
      ]
    },
    {
      "cell_type": "code",
      "execution_count": 202,
      "metadata": {},
      "outputs": [
        {
          "data": {
            "text/html": [
              "<div>\n",
              "<style scoped>\n",
              "    .dataframe tbody tr th:only-of-type {\n",
              "        vertical-align: middle;\n",
              "    }\n",
              "\n",
              "    .dataframe tbody tr th {\n",
              "        vertical-align: top;\n",
              "    }\n",
              "\n",
              "    .dataframe thead th {\n",
              "        text-align: right;\n",
              "    }\n",
              "</style>\n",
              "<table border=\"1\" class=\"dataframe\">\n",
              "  <thead>\n",
              "    <tr style=\"text-align: right;\">\n",
              "      <th></th>\n",
              "      <th>ca</th>\n",
              "      <th>thal</th>\n",
              "    </tr>\n",
              "  </thead>\n",
              "  <tbody>\n",
              "    <tr>\n",
              "      <th>87</th>\n",
              "      <td>0.000000</td>\n",
              "      <td>3.236788</td>\n",
              "    </tr>\n",
              "    <tr>\n",
              "      <th>166</th>\n",
              "      <td>0.140119</td>\n",
              "      <td>3.000000</td>\n",
              "    </tr>\n",
              "    <tr>\n",
              "      <th>192</th>\n",
              "      <td>0.518786</td>\n",
              "      <td>7.000000</td>\n",
              "    </tr>\n",
              "    <tr>\n",
              "      <th>266</th>\n",
              "      <td>0.000000</td>\n",
              "      <td>6.400106</td>\n",
              "    </tr>\n",
              "    <tr>\n",
              "      <th>287</th>\n",
              "      <td>0.299644</td>\n",
              "      <td>7.000000</td>\n",
              "    </tr>\n",
              "    <tr>\n",
              "      <th>302</th>\n",
              "      <td>0.123735</td>\n",
              "      <td>3.000000</td>\n",
              "    </tr>\n",
              "  </tbody>\n",
              "</table>\n",
              "</div>"
            ],
            "text/plain": [
              "           ca      thal\n",
              "87   0.000000  3.236788\n",
              "166  0.140119  3.000000\n",
              "192  0.518786  7.000000\n",
              "266  0.000000  6.400106\n",
              "287  0.299644  7.000000\n",
              "302  0.123735  3.000000"
            ]
          },
          "execution_count": 202,
          "metadata": {},
          "output_type": "execute_result"
        }
      ],
      "source": [
        "df_rf = df_origin.copy()\n",
        "\n",
        "imputer = IterativeImputer(estimator=RandomForestRegressor(\n",
        "    random_state=random_state, min_samples_leaf=5, max_features=5), max_iter=10, random_state=random_state)\n",
        "df_rf = pd.DataFrame(imputer.fit_transform(df_rf), columns=df_rf.columns)\n",
        "\n",
        "df_rf.iloc[nan_indies][['ca', 'thal']]"
      ]
    },
    {
      "cell_type": "code",
      "execution_count": 203,
      "metadata": {
        "colab": {
          "base_uri": "https://localhost:8080/"
        },
        "id": "mU08qXPSZVwn",
        "outputId": "5cdfcf71-215e-4d33-faac-68a0b7f52d45"
      },
      "outputs": [
        {
          "name": "stdout",
          "output_type": "stream",
          "text": [
            "Metrics of RandomForestClassifier for train set:\n",
            "              precision    recall  f1-score   support\n",
            "\n",
            "           0       0.93      0.96      0.94       135\n",
            "           1       0.94      0.91      0.92       107\n",
            "\n",
            "    accuracy                           0.93       242\n",
            "   macro avg       0.93      0.93      0.93       242\n",
            "weighted avg       0.93      0.93      0.93       242\n",
            "\n",
            "-----------------------------------------------------------\n",
            "Metrics of RandomForestClassifier for test set:\n",
            "              precision    recall  f1-score   support\n",
            "\n",
            "           0       0.84      0.93      0.89        29\n",
            "           1       0.93      0.84      0.89        32\n",
            "\n",
            "    accuracy                           0.89        61\n",
            "   macro avg       0.89      0.89      0.89        61\n",
            "weighted avg       0.89      0.89      0.89        61\n",
            "\n"
          ]
        }
      ],
      "source": [
        "rf_clf = RandomForestClassifier(criterion='gini', max_depth=10, max_features=5,\n",
        "                                min_samples_leaf=5, n_estimators=10, random_state=random_state)\n",
        "rf_clf.fit(X_train, y_train)\n",
        "\n",
        "y_pred_train_rf_clf = rf_clf.predict(X_train)\n",
        "y_pred_rf_clf = rf_clf.predict(X_test)\n",
        "\n",
        "print('Metrics of RandomForestClassifier for train set:')\n",
        "print(classification_report(y_train, y_pred_train_rf_clf))\n",
        "print(\"-----------------------------------------------------------\")\n",
        "print('Metrics of RandomForestClassifier for test set:')\n",
        "print(classification_report(y_test, y_pred_rf_clf))"
      ]
    },
    {
      "cell_type": "code",
      "execution_count": 204,
      "metadata": {},
      "outputs": [
        {
          "data": {
            "text/plain": [
              "{'knn': 0.93443, 'svc': 0.90164, 'gnb': 0.83607, 'dt': 0.80328, 'rf': 0.88525}"
            ]
          },
          "execution_count": 204,
          "metadata": {},
          "output_type": "execute_result"
        }
      ],
      "source": [
        "accuracy_models['rf'] = round(accuracy_score(y_test, y_pred_rf_clf), 5)\n",
        "accuracy_models"
      ]
    },
    {
      "cell_type": "markdown",
      "metadata": {},
      "source": [
        "## <span style=\"font-size: 20px;\">*6. Adaboost*</span>"
      ]
    },
    {
      "cell_type": "code",
      "execution_count": 205,
      "metadata": {},
      "outputs": [
        {
          "data": {
            "text/html": [
              "<div>\n",
              "<style scoped>\n",
              "    .dataframe tbody tr th:only-of-type {\n",
              "        vertical-align: middle;\n",
              "    }\n",
              "\n",
              "    .dataframe tbody tr th {\n",
              "        vertical-align: top;\n",
              "    }\n",
              "\n",
              "    .dataframe thead th {\n",
              "        text-align: right;\n",
              "    }\n",
              "</style>\n",
              "<table border=\"1\" class=\"dataframe\">\n",
              "  <thead>\n",
              "    <tr style=\"text-align: right;\">\n",
              "      <th></th>\n",
              "      <th>ca</th>\n",
              "      <th>thal</th>\n",
              "    </tr>\n",
              "  </thead>\n",
              "  <tbody>\n",
              "    <tr>\n",
              "      <th>87</th>\n",
              "      <td>0.000000</td>\n",
              "      <td>3.114286</td>\n",
              "    </tr>\n",
              "    <tr>\n",
              "      <th>166</th>\n",
              "      <td>0.357843</td>\n",
              "      <td>3.000000</td>\n",
              "    </tr>\n",
              "    <tr>\n",
              "      <th>192</th>\n",
              "      <td>0.375796</td>\n",
              "      <td>7.000000</td>\n",
              "    </tr>\n",
              "    <tr>\n",
              "      <th>266</th>\n",
              "      <td>0.000000</td>\n",
              "      <td>6.241935</td>\n",
              "    </tr>\n",
              "    <tr>\n",
              "      <th>287</th>\n",
              "      <td>0.403361</td>\n",
              "      <td>7.000000</td>\n",
              "    </tr>\n",
              "    <tr>\n",
              "      <th>302</th>\n",
              "      <td>0.189655</td>\n",
              "      <td>3.000000</td>\n",
              "    </tr>\n",
              "  </tbody>\n",
              "</table>\n",
              "</div>"
            ],
            "text/plain": [
              "           ca      thal\n",
              "87   0.000000  3.114286\n",
              "166  0.357843  3.000000\n",
              "192  0.375796  7.000000\n",
              "266  0.000000  6.241935\n",
              "287  0.403361  7.000000\n",
              "302  0.189655  3.000000"
            ]
          },
          "execution_count": 205,
          "metadata": {},
          "output_type": "execute_result"
        }
      ],
      "source": [
        "df_ada = df_origin.copy()\n",
        "\n",
        "imputer = IterativeImputer(estimator=AdaBoostRegressor(\n",
        "    learning_rate=0.1, random_state=random_state), max_iter=10, random_state=random_state)\n",
        "df_ada = pd.DataFrame(imputer.fit_transform(df_ada), columns=df_ada.columns)\n",
        "\n",
        "df_ada.iloc[nan_indies][['ca', 'thal']]"
      ]
    },
    {
      "cell_type": "code",
      "execution_count": 206,
      "metadata": {
        "colab": {
          "base_uri": "https://localhost:8080/"
        },
        "id": "vLMPSNudZg7D",
        "outputId": "a1365c6d-3953-4ec6-a5b4-ff3f16484ac1"
      },
      "outputs": [
        {
          "name": "stdout",
          "output_type": "stream",
          "text": [
            "Metrics of AdaBoostClassifier for train set:\n",
            "              precision    recall  f1-score   support\n",
            "\n",
            "           0       0.93      0.93      0.93       135\n",
            "           1       0.92      0.91      0.91       107\n",
            "\n",
            "    accuracy                           0.92       242\n",
            "   macro avg       0.92      0.92      0.92       242\n",
            "weighted avg       0.92      0.92      0.92       242\n",
            "\n",
            "-----------------------------------------------------------\n",
            "Metrics of AdaBoostClassifier for test set:\n",
            "              precision    recall  f1-score   support\n",
            "\n",
            "           0       0.81      0.86      0.83        29\n",
            "           1       0.87      0.81      0.84        32\n",
            "\n",
            "    accuracy                           0.84        61\n",
            "   macro avg       0.84      0.84      0.84        61\n",
            "weighted avg       0.84      0.84      0.84        61\n",
            "\n"
          ]
        }
      ],
      "source": [
        "ada_clf = AdaBoostClassifier(\n",
        "    n_estimators=50, learning_rate=0.8, random_state=random_state)\n",
        "ada_clf.fit(X_train, y_train)\n",
        "\n",
        "y_pred_train_ada_clf = ada_clf.predict(X_train)\n",
        "y_pred_ada_clf = ada_clf.predict(X_test)\n",
        "\n",
        "print('Metrics of AdaBoostClassifier for train set:')\n",
        "print(classification_report(y_train, y_pred_train_ada_clf))\n",
        "print(\"-----------------------------------------------------------\")\n",
        "print('Metrics of AdaBoostClassifier for test set:')\n",
        "print(classification_report(y_test, y_pred_ada_clf))"
      ]
    },
    {
      "cell_type": "code",
      "execution_count": 207,
      "metadata": {},
      "outputs": [
        {
          "data": {
            "text/plain": [
              "{'knn': 0.93443,\n",
              " 'svc': 0.90164,\n",
              " 'gnb': 0.83607,\n",
              " 'dt': 0.80328,\n",
              " 'rf': 0.88525,\n",
              " 'ada': 0.83607}"
            ]
          },
          "execution_count": 207,
          "metadata": {},
          "output_type": "execute_result"
        }
      ],
      "source": [
        "accuracy_models['ada'] = round(accuracy_score(y_test, y_pred_ada_clf), 5)\n",
        "accuracy_models"
      ]
    },
    {
      "cell_type": "markdown",
      "metadata": {},
      "source": [
        "## <span style=\"font-size: 20px;\">*7. Gradient Boost*</span>"
      ]
    },
    {
      "cell_type": "code",
      "execution_count": 208,
      "metadata": {},
      "outputs": [
        {
          "data": {
            "text/html": [
              "<div>\n",
              "<style scoped>\n",
              "    .dataframe tbody tr th:only-of-type {\n",
              "        vertical-align: middle;\n",
              "    }\n",
              "\n",
              "    .dataframe tbody tr th {\n",
              "        vertical-align: top;\n",
              "    }\n",
              "\n",
              "    .dataframe thead th {\n",
              "        text-align: right;\n",
              "    }\n",
              "</style>\n",
              "<table border=\"1\" class=\"dataframe\">\n",
              "  <thead>\n",
              "    <tr style=\"text-align: right;\">\n",
              "      <th></th>\n",
              "      <th>ca</th>\n",
              "      <th>thal</th>\n",
              "    </tr>\n",
              "  </thead>\n",
              "  <tbody>\n",
              "    <tr>\n",
              "      <th>87</th>\n",
              "      <td>0.000000</td>\n",
              "      <td>3.165222</td>\n",
              "    </tr>\n",
              "    <tr>\n",
              "      <th>166</th>\n",
              "      <td>0.296395</td>\n",
              "      <td>3.000000</td>\n",
              "    </tr>\n",
              "    <tr>\n",
              "      <th>192</th>\n",
              "      <td>0.382951</td>\n",
              "      <td>7.000000</td>\n",
              "    </tr>\n",
              "    <tr>\n",
              "      <th>266</th>\n",
              "      <td>0.000000</td>\n",
              "      <td>6.648864</td>\n",
              "    </tr>\n",
              "    <tr>\n",
              "      <th>287</th>\n",
              "      <td>0.105176</td>\n",
              "      <td>7.000000</td>\n",
              "    </tr>\n",
              "    <tr>\n",
              "      <th>302</th>\n",
              "      <td>0.019068</td>\n",
              "      <td>3.000000</td>\n",
              "    </tr>\n",
              "  </tbody>\n",
              "</table>\n",
              "</div>"
            ],
            "text/plain": [
              "           ca      thal\n",
              "87   0.000000  3.165222\n",
              "166  0.296395  3.000000\n",
              "192  0.382951  7.000000\n",
              "266  0.000000  6.648864\n",
              "287  0.105176  7.000000\n",
              "302  0.019068  3.000000"
            ]
          },
          "execution_count": 208,
          "metadata": {},
          "output_type": "execute_result"
        }
      ],
      "source": [
        "df_grad = df_origin.copy()\n",
        "\n",
        "imputer = IterativeImputer(estimator=GradientBoostingRegressor(\n",
        "    learning_rate=0.1, random_state=random_state), max_iter=10, random_state=random_state)\n",
        "df_grad = pd.DataFrame(imputer.fit_transform(df_grad), columns=df_grad.columns)\n",
        "\n",
        "df_grad.iloc[nan_indies][['ca', 'thal']]"
      ]
    },
    {
      "cell_type": "code",
      "execution_count": 209,
      "metadata": {
        "colab": {
          "base_uri": "https://localhost:8080/"
        },
        "id": "-vHkdkIzaMMp",
        "outputId": "819945a6-2804-43a0-dce8-3aac173e3a32"
      },
      "outputs": [
        {
          "name": "stdout",
          "output_type": "stream",
          "text": [
            "Metrics of GradientBoostingClassifier for train set:\n",
            "              precision    recall  f1-score   support\n",
            "\n",
            "           0       0.99      1.00      1.00       135\n",
            "           1       1.00      0.99      1.00       107\n",
            "\n",
            "    accuracy                           1.00       242\n",
            "   macro avg       1.00      1.00      1.00       242\n",
            "weighted avg       1.00      1.00      1.00       242\n",
            "\n",
            "-----------------------------------------------------------\n",
            "Metrics of GradientBoostingClassifier for test set:\n",
            "              precision    recall  f1-score   support\n",
            "\n",
            "           0       0.83      0.86      0.85        29\n",
            "           1       0.87      0.84      0.86        32\n",
            "\n",
            "    accuracy                           0.85        61\n",
            "   macro avg       0.85      0.85      0.85        61\n",
            "weighted avg       0.85      0.85      0.85        61\n",
            "\n"
          ]
        }
      ],
      "source": [
        "grad_clf = GradientBoostingClassifier(\n",
        "    learning_rate=0.1, n_estimators=100, subsample=1.0, min_samples_split=2, max_depth=3, random_state=42)\n",
        "grad_clf.fit(X_train, y_train)\n",
        "\n",
        "y_pred_train_grad_clf = grad_clf.predict(X_train)\n",
        "y_pred_grad_clf = grad_clf.predict(X_test)\n",
        "\n",
        "print('Metrics of GradientBoostingClassifier for train set:')\n",
        "print(classification_report(y_train, y_pred_train_grad_clf))\n",
        "print(\"-----------------------------------------------------------\")\n",
        "print('Metrics of GradientBoostingClassifier for test set:')\n",
        "print(classification_report(y_test, y_pred_grad_clf))"
      ]
    },
    {
      "cell_type": "code",
      "execution_count": 210,
      "metadata": {},
      "outputs": [
        {
          "data": {
            "text/plain": [
              "{'knn': 0.93443,\n",
              " 'svc': 0.90164,\n",
              " 'gnb': 0.83607,\n",
              " 'dt': 0.80328,\n",
              " 'rf': 0.88525,\n",
              " 'ada': 0.83607,\n",
              " 'grad': 0.85246}"
            ]
          },
          "execution_count": 210,
          "metadata": {},
          "output_type": "execute_result"
        }
      ],
      "source": [
        "accuracy_models['grad'] = round(accuracy_score(y_test, y_pred_grad_clf), 5)\n",
        "accuracy_models"
      ]
    },
    {
      "cell_type": "markdown",
      "metadata": {},
      "source": [
        "## <span style=\"font-size: 20px;\">*8. XGBoost*</span>"
      ]
    },
    {
      "cell_type": "code",
      "execution_count": 211,
      "metadata": {},
      "outputs": [
        {
          "data": {
            "text/html": [
              "<div>\n",
              "<style scoped>\n",
              "    .dataframe tbody tr th:only-of-type {\n",
              "        vertical-align: middle;\n",
              "    }\n",
              "\n",
              "    .dataframe tbody tr th {\n",
              "        vertical-align: top;\n",
              "    }\n",
              "\n",
              "    .dataframe thead th {\n",
              "        text-align: right;\n",
              "    }\n",
              "</style>\n",
              "<table border=\"1\" class=\"dataframe\">\n",
              "  <thead>\n",
              "    <tr style=\"text-align: right;\">\n",
              "      <th></th>\n",
              "      <th>ca</th>\n",
              "      <th>thal</th>\n",
              "    </tr>\n",
              "  </thead>\n",
              "  <tbody>\n",
              "    <tr>\n",
              "      <th>87</th>\n",
              "      <td>0.000000</td>\n",
              "      <td>3.525963</td>\n",
              "    </tr>\n",
              "    <tr>\n",
              "      <th>166</th>\n",
              "      <td>0.050280</td>\n",
              "      <td>3.000000</td>\n",
              "    </tr>\n",
              "    <tr>\n",
              "      <th>192</th>\n",
              "      <td>0.563513</td>\n",
              "      <td>7.000000</td>\n",
              "    </tr>\n",
              "    <tr>\n",
              "      <th>266</th>\n",
              "      <td>0.000000</td>\n",
              "      <td>6.543390</td>\n",
              "    </tr>\n",
              "    <tr>\n",
              "      <th>287</th>\n",
              "      <td>0.664101</td>\n",
              "      <td>7.000000</td>\n",
              "    </tr>\n",
              "    <tr>\n",
              "      <th>302</th>\n",
              "      <td>-0.108986</td>\n",
              "      <td>3.000000</td>\n",
              "    </tr>\n",
              "  </tbody>\n",
              "</table>\n",
              "</div>"
            ],
            "text/plain": [
              "           ca      thal\n",
              "87   0.000000  3.525963\n",
              "166  0.050280  3.000000\n",
              "192  0.563513  7.000000\n",
              "266  0.000000  6.543390\n",
              "287  0.664101  7.000000\n",
              "302 -0.108986  3.000000"
            ]
          },
          "execution_count": 211,
          "metadata": {},
          "output_type": "execute_result"
        }
      ],
      "source": [
        "df_xg = df_origin.copy()\n",
        "\n",
        "imputer = IterativeImputer(estimator=XGBRegressor(),\n",
        "                           max_iter=10, random_state=random_state)\n",
        "df_xg = pd.DataFrame(imputer.fit_transform(df_xg), columns=df_xg.columns)\n",
        "\n",
        "df_xg.iloc[nan_indies][['ca', 'thal']]"
      ]
    },
    {
      "cell_type": "code",
      "execution_count": 212,
      "metadata": {
        "colab": {
          "base_uri": "https://localhost:8080/"
        },
        "id": "jktfJ9cmZa6t",
        "outputId": "df610d61-6b2b-4637-9fc4-def19258f132"
      },
      "outputs": [
        {
          "name": "stdout",
          "output_type": "stream",
          "text": [
            "Metrics of XGBClassifier for train set:\n",
            "              precision    recall  f1-score   support\n",
            "\n",
            "           0       1.00      1.00      1.00       135\n",
            "           1       1.00      1.00      1.00       107\n",
            "\n",
            "    accuracy                           1.00       242\n",
            "   macro avg       1.00      1.00      1.00       242\n",
            "weighted avg       1.00      1.00      1.00       242\n",
            "\n",
            "-----------------------------------------------------------\n",
            "Metrics of XGBClassifier for test set:\n",
            "              precision    recall  f1-score   support\n",
            "\n",
            "           0       0.84      0.90      0.87        29\n",
            "           1       0.90      0.84      0.87        32\n",
            "\n",
            "    accuracy                           0.87        61\n",
            "   macro avg       0.87      0.87      0.87        61\n",
            "weighted avg       0.87      0.87      0.87        61\n",
            "\n"
          ]
        }
      ],
      "source": [
        "xg_clf = XGBClassifier(objective=\"binary:logistic\",\n",
        "                       random_state=42, n_estimators=100)\n",
        "xg_clf.fit(X_train, y_train)\n",
        "\n",
        "y_pred_train_xg_clf = xg_clf.predict(X_train)\n",
        "y_pred_xg_clf = xg_clf.predict(X_test)\n",
        "\n",
        "print('Metrics of XGBClassifier for train set:')\n",
        "print(classification_report(y_train, y_pred_train_xg_clf))\n",
        "print(\"-----------------------------------------------------------\")\n",
        "print('Metrics of XGBClassifier for test set:')\n",
        "print(classification_report(y_test, y_pred_xg_clf))"
      ]
    },
    {
      "cell_type": "code",
      "execution_count": 213,
      "metadata": {},
      "outputs": [
        {
          "data": {
            "text/plain": [
              "{'knn': 0.93443,\n",
              " 'svc': 0.90164,\n",
              " 'gnb': 0.83607,\n",
              " 'dt': 0.80328,\n",
              " 'rf': 0.88525,\n",
              " 'ada': 0.83607,\n",
              " 'grad': 0.85246,\n",
              " 'xg': 0.86885}"
            ]
          },
          "execution_count": 213,
          "metadata": {},
          "output_type": "execute_result"
        }
      ],
      "source": [
        "accuracy_models['xg'] = round(accuracy_score(y_test, y_pred_xg_clf), 5)\n",
        "accuracy_models"
      ]
    },
    {
      "cell_type": "markdown",
      "metadata": {},
      "source": [
        "## <span style=\"font-size: 20px;\">*9. Stack*</span>"
      ]
    },
    {
      "cell_type": "code",
      "execution_count": 214,
      "metadata": {
        "colab": {
          "base_uri": "https://localhost:8080/"
        },
        "id": "kTPu9HREcY0F",
        "outputId": "581b8de9-caef-40ae-827d-e3dc1da31db0"
      },
      "outputs": [
        {
          "name": "stdout",
          "output_type": "stream",
          "text": [
            "Metrics of StackingClassifier for train set:\n",
            "              precision    recall  f1-score   support\n",
            "\n",
            "           0       0.91      0.92      0.92       135\n",
            "           1       0.90      0.89      0.89       107\n",
            "\n",
            "    accuracy                           0.90       242\n",
            "   macro avg       0.90      0.90      0.90       242\n",
            "weighted avg       0.90      0.90      0.90       242\n",
            "\n",
            "-----------------------------------------------------------\n",
            "Metrics of StackingClassifier for test set:\n",
            "              precision    recall  f1-score   support\n",
            "\n",
            "           0       0.87      0.90      0.88        29\n",
            "           1       0.90      0.88      0.89        32\n",
            "\n",
            "    accuracy                           0.89        61\n",
            "   macro avg       0.88      0.89      0.89        61\n",
            "weighted avg       0.89      0.89      0.89        61\n",
            "\n"
          ]
        }
      ],
      "source": [
        "clf_models = [('dt', dt_clf), ('rf', rf_clf), ('knn', knn_clf),\n",
        "              ('grad', grad_clf), ('ada', ada_clf), ('svc', svc_clf)]\n",
        "meta_model = XGBClassifier()\n",
        "\n",
        "stack_clf = StackingClassifier(\n",
        "    estimators=clf_models, final_estimator=meta_model)\n",
        "stack_clf.fit(X_train, y_train)\n",
        "\n",
        "y_pred_train_stack_clf = stack_clf.predict(X_train)\n",
        "y_pred_stack_clf = stack_clf.predict(X_test)\n",
        "\n",
        "print('Metrics of StackingClassifier for train set:')\n",
        "print(classification_report(y_train, y_pred_train_stack_clf))\n",
        "print(\"-----------------------------------------------------------\")\n",
        "print('Metrics of StackingClassifier for test set:')\n",
        "print(classification_report(y_test, y_pred_stack_clf))"
      ]
    },
    {
      "cell_type": "code",
      "execution_count": 215,
      "metadata": {},
      "outputs": [
        {
          "data": {
            "text/plain": [
              "{'knn': 0.93443,\n",
              " 'svc': 0.90164,\n",
              " 'gnb': 0.83607,\n",
              " 'dt': 0.80328,\n",
              " 'rf': 0.88525,\n",
              " 'ada': 0.83607,\n",
              " 'grad': 0.85246,\n",
              " 'xg': 0.86885,\n",
              " 'stack': 0.88525}"
            ]
          },
          "execution_count": 215,
          "metadata": {},
          "output_type": "execute_result"
        }
      ],
      "source": [
        "accuracy_models['stack'] = round(accuracy_score(y_test, y_pred_stack_clf), 5)\n",
        "accuracy_models"
      ]
    },
    {
      "cell_type": "code",
      "execution_count": 216,
      "metadata": {},
      "outputs": [
        {
          "data": {
            "image/png": "[encoded data removed]",
            "text/plain": [
              "<Figure size 800x500 with 1 Axes>"
            ]
          },
          "metadata": {},
          "output_type": "display_data"
        }
      ],
      "source": [
        "plt.figure(figsize=(8, 5))\n",
        "\n",
        "plt.plot(accuracy_models.keys(), accuracy_models.values(),\n",
        "         color='black', marker='o', markerfacecolor='blue', markersize=10)\n",
        "plt.xlabel('Model')\n",
        "plt.ylabel('Accuracy')\n",
        "plt.title('Accuracy of Models')\n",
        "\n",
        "plt.show()"
      ]
    },
    {
      "cell_type": "markdown",
      "metadata": {
        "id": "tlbFhmETCwSx"
      },
      "source": [
        "# VI. Features"
      ]
    },
    {
      "cell_type": "code",
      "execution_count": 217,
      "metadata": {
        "colab": {
          "base_uri": "https://localhost:8080/",
          "height": 719
        },
        "id": "N9O1Yuy8Em6N",
        "outputId": "d7535703-a975-4931-d23b-cd1c65e267ea"
      },
      "outputs": [
        {
          "data": {
            "text/plain": [
              "<Axes: ylabel='None'>"
            ]
          },
          "execution_count": 217,
          "metadata": {},
          "output_type": "execute_result"
        },
        {
          "data": {
            "image/png": "[encoded data removed]",
            "text/plain": [
              "<Figure size 1000x600 with 1 Axes>"
            ]
          },
          "metadata": {},
          "output_type": "display_data"
        }
      ],
      "source": [
        "feature_importances = xg_clf.feature_importances_\n",
        "\n",
        "sorted_indices = feature_importances.argsort()[::-1]\n",
        "sorted_importances = feature_importances[sorted_indices]\n",
        "\n",
        "sns.set_theme(rc={'figure.figsize':(10, 6)})\n",
        "sns.barplot(x=sorted_importances, y=df.columns[sorted_indices])"
      ]
    }
  ],
  "metadata": {
    "colab": {
      "provenance": []
    },
    "kernelspec": {
      "display_name": "Python 3",
      "name": "python3"
    },
    "language_info": {
      "codemirror_mode": {
        "name": "ipython",
        "version": 3
      },
      "file_extension": ".py",
      "mimetype": "text/x-python",
      "name": "python",
      "nbconvert_exporter": "python",
      "pygments_lexer": "ipython3",
      "version": "3.11.9"
    }
  },
  "nbformat": 4,
  "nbformat_minor": 0
}
